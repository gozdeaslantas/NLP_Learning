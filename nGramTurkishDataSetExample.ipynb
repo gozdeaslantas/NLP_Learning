{
  "nbformat": 4,
  "nbformat_minor": 0,
  "metadata": {
    "colab": {
      "name": "nGramTurkishDataSetExample.ipynb",
      "provenance": [],
      "authorship_tag": "ABX9TyOjEh5F6HfB9D8BYlZ2pHfV",
      "include_colab_link": true
    },
    "kernelspec": {
      "name": "python3",
      "display_name": "Python 3"
    }
  },
  "cells": [
    {
      "cell_type": "markdown",
      "metadata": {
        "id": "view-in-github",
        "colab_type": "text"
      },
      "source": [
        "<a href=\"https://colab.research.google.com/github/gozdeaslantas/NLP_Learning/blob/master/nGramTurkishDataSetExample.ipynb\" target=\"_parent\"><img src=\"https://colab.research.google.com/assets/colab-badge.svg\" alt=\"Open In Colab\"/></a>"
      ]
    },
    {
      "cell_type": "markdown",
      "metadata": {
        "id": "j8n3p9f7E219",
        "colab_type": "text"
      },
      "source": [
        ""
      ]
    },
    {
      "cell_type": "code",
      "metadata": {
        "id": "xBRwJaaNdwQP",
        "colab_type": "code",
        "colab": {}
      },
      "source": [
        "import nltk\n",
        "import pandas as pd\n",
        "import numpy as np"
      ],
      "execution_count": 0,
      "outputs": []
    },
    {
      "cell_type": "code",
      "metadata": {
        "id": "p-7vCxtGgtVM",
        "colab_type": "code",
        "colab": {
          "base_uri": "https://localhost:8080/",
          "height": 353
        },
        "outputId": "53b39ed8-7e49-416a-b097-f262a2e62bd4"
      },
      "source": [
        "!wget https://github.com/gozdeaslantas/NLP_Learning/blob/master/Ngrams/Data/TurkishExampleData1.txt?raw=true\n",
        "!mv TurkishExampleData1.txt\\?raw\\=true data.txt"
      ],
      "execution_count": 28,
      "outputs": [
        {
          "output_type": "stream",
          "text": [
            "--2020-04-26 22:33:19--  https://github.com/gozdeaslantas/NLP_Learning/blob/master/Ngrams/Data/TurkishExampleData1.txt?raw=true\n",
            "Resolving github.com (github.com)... 140.82.114.3\n",
            "Connecting to github.com (github.com)|140.82.114.3|:443... connected.\n",
            "HTTP request sent, awaiting response... 302 Found\n",
            "Location: https://github.com/gozdeaslantas/NLP_Learning/raw/master/Ngrams/Data/TurkishExampleData1.txt [following]\n",
            "--2020-04-26 22:33:19--  https://github.com/gozdeaslantas/NLP_Learning/raw/master/Ngrams/Data/TurkishExampleData1.txt\n",
            "Reusing existing connection to github.com:443.\n",
            "HTTP request sent, awaiting response... 302 Found\n",
            "Location: https://raw.githubusercontent.com/gozdeaslantas/NLP_Learning/master/Ngrams/Data/TurkishExampleData1.txt [following]\n",
            "--2020-04-26 22:33:20--  https://raw.githubusercontent.com/gozdeaslantas/NLP_Learning/master/Ngrams/Data/TurkishExampleData1.txt\n",
            "Resolving raw.githubusercontent.com (raw.githubusercontent.com)... 151.101.0.133, 151.101.64.133, 151.101.128.133, ...\n",
            "Connecting to raw.githubusercontent.com (raw.githubusercontent.com)|151.101.0.133|:443... connected.\n",
            "HTTP request sent, awaiting response... 200 OK\n",
            "Length: 1048407 (1024K) [text/plain]\n",
            "Saving to: ‘TurkishExampleData1.txt?raw=true.1’\n",
            "\n",
            "\r          TurkishEx   0%[                    ]       0  --.-KB/s               \rTurkishExampleData1 100%[===================>]   1024K  --.-KB/s    in 0.08s   \n",
            "\n",
            "2020-04-26 22:33:20 (13.2 MB/s) - ‘TurkishExampleData1.txt?raw=true.1’ saved [1048407/1048407]\n",
            "\n"
          ],
          "name": "stdout"
        }
      ]
    },
    {
      "cell_type": "code",
      "metadata": {
        "id": "2nT5bTynpNmt",
        "colab_type": "code",
        "colab": {
          "base_uri": "https://localhost:8080/",
          "height": 34
        },
        "outputId": "ce37f28d-8575-46e8-e7a1-ab44b99061e3"
      },
      "source": [
        "data = \"data.txt\"\n",
        "with open(data, \"r\") as file1:\n",
        "    FileasList = file1.readlines()\n",
        "FileasList[0]"
      ],
      "execution_count": 37,
      "outputs": [
        {
          "output_type": "execute_result",
          "data": {
            "text/plain": [
              "'iran devlet televizyonu ülkedeki eyaletin sinde yapılan reformcuları protesto amaçlı yürüyüşlere milyonlarca kişinin katıldığını bildirdi \\n'"
            ]
          },
          "metadata": {
            "tags": []
          },
          "execution_count": 37
        }
      ]
    }
  ]
}