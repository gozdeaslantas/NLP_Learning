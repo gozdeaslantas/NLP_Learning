{
  "nbformat": 4,
  "nbformat_minor": 0,
  "metadata": {
    "colab": {
      "name": "NaiveBayesClassification.ipynb",
      "provenance": [],
      "authorship_tag": "ABX9TyObAWf7yHmJHv3jbUISPK8x",
      "include_colab_link": true
    },
    "kernelspec": {
      "name": "python3",
      "display_name": "Python 3"
    }
  },
  "cells": [
    {
      "cell_type": "markdown",
      "metadata": {
        "id": "view-in-github",
        "colab_type": "text"
      },
      "source": [
        "<a href=\"https://colab.research.google.com/github/gozdeaslantas/NLP_Learning/blob/master/Classification/NaiveBayes/NaiveBayesClassification.ipynb\" target=\"_parent\"><img src=\"https://colab.research.google.com/assets/colab-badge.svg\" alt=\"Open In Colab\"/></a>"
      ]
    },
    {
      "cell_type": "code",
      "metadata": {
        "id": "KFL2Hu2ISDHS",
        "colab_type": "code",
        "colab": {
          "base_uri": "https://localhost:8080/",
          "height": 50
        },
        "outputId": "66bafc22-3c9d-407b-e888-d1fe31933ee4"
      },
      "source": [
        "#This code aims to practice handling 2-class classification using Naive Bayes technique\n",
        "#First read data\n",
        "import nltk\n",
        "import random\n",
        "from nltk.corpus import names\n",
        "nltk.download('names')\n",
        "labeled_names = ([(name, 'male') for name in names.words('male.txt')] + [(name, 'female') for name in names.words('female.txt')])\n",
        "random.shuffle(labeled_names)"
      ],
      "execution_count": 9,
      "outputs": [
        {
          "output_type": "stream",
          "text": [
            "[nltk_data] Downloading package names to /root/nltk_data...\n",
            "[nltk_data]   Package names is already up-to-date!\n"
          ],
          "name": "stdout"
        }
      ]
    },
    {
      "cell_type": "code",
      "metadata": {
        "id": "yti4TG4FhCIZ",
        "colab_type": "code",
        "colab": {
          "base_uri": "https://localhost:8080/",
          "height": 34
        },
        "outputId": "7f968ee3-447b-42a7-f1dc-8a4e0fae2cce"
      },
      "source": [
        "labeled_names[0]"
      ],
      "execution_count": 10,
      "outputs": [
        {
          "output_type": "execute_result",
          "data": {
            "text/plain": [
              "('Ignazio', 'male')"
            ]
          },
          "metadata": {
            "tags": []
          },
          "execution_count": 10
        }
      ]
    },
    {
      "cell_type": "code",
      "metadata": {
        "id": "g_uNoGWphdtZ",
        "colab_type": "code",
        "colab": {}
      },
      "source": [
        "def gender_features(word):\n",
        "  features = {}\n",
        "  features['last_letter'] = word[-1].lower();\n",
        "  features['length'] = len(word)\n",
        "  return features\n"
      ],
      "execution_count": 0,
      "outputs": []
    },
    {
      "cell_type": "code",
      "metadata": {
        "id": "NiREFhGej2gL",
        "colab_type": "code",
        "colab": {}
      },
      "source": [
        "train_set, test_set = featuresets[500:], featuresets[:500]"
      ],
      "execution_count": 0,
      "outputs": []
    },
    {
      "cell_type": "code",
      "metadata": {
        "id": "Fy8V3Cwjj40P",
        "colab_type": "code",
        "colab": {}
      },
      "source": [
        "classifier = nltk.NaiveBayesClassifier.train(train_set)"
      ],
      "execution_count": 0,
      "outputs": []
    },
    {
      "cell_type": "code",
      "metadata": {
        "id": "JAMA9hWalRfu",
        "colab_type": "code",
        "colab": {
          "base_uri": "https://localhost:8080/",
          "height": 34
        },
        "outputId": "b1ad8f48-b9cd-41c8-e1c0-5de3aba53e1c"
      },
      "source": [
        "print(nltk.classify.accuracy(classifier, test_set))"
      ],
      "execution_count": 38,
      "outputs": [
        {
          "output_type": "stream",
          "text": [
            "0.752\n"
          ],
          "name": "stdout"
        }
      ]
    },
    {
      "cell_type": "code",
      "metadata": {
        "id": "Msv_hh4zmCyZ",
        "colab_type": "code",
        "colab": {
          "base_uri": "https://localhost:8080/",
          "height": 118
        },
        "outputId": "04c220a3-6ef8-48ee-9637-45d0bd11c24b"
      },
      "source": [
        "classifier.show_most_informative_features(5)"
      ],
      "execution_count": 39,
      "outputs": [
        {
          "output_type": "stream",
          "text": [
            "Most Informative Features\n",
            "             last_letter = 'a'            female : male   =     35.7 : 1.0\n",
            "             last_letter = 'k'              male : female =     32.0 : 1.0\n",
            "             last_letter = 'f'              male : female =     16.8 : 1.0\n",
            "             last_letter = 'p'              male : female =     11.3 : 1.0\n",
            "             last_letter = 'v'              male : female =     11.3 : 1.0\n"
          ],
          "name": "stdout"
        }
      ]
    }
  ]
}